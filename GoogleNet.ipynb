{
  "cells": [
    {
      "cell_type": "markdown",
      "metadata": {
        "id": "view-in-github",
        "colab_type": "text"
      },
      "source": [
        "<a href=\"https://colab.research.google.com/github/minhdinh03/FlowerClassificationProject/blob/main/GoogleNet.ipynb\" target=\"_parent\"><img src=\"https://colab.research.google.com/assets/colab-badge.svg\" alt=\"Open In Colab\"/></a>"
      ]
    },
    {
      "cell_type": "code",
      "execution_count": null,
      "metadata": {
        "id": "hZjqVUBYdQAC"
      },
      "outputs": [],
      "source": [
        "# from google.colab import drive\n",
        "# drive.mount('/content/drive')"
      ]
    },
    {
      "cell_type": "code",
      "execution_count": null,
      "metadata": {
        "colab": {
          "base_uri": "https://localhost:8080/"
        },
        "id": "LalYpEJhdB0V",
        "outputId": "ce096cdf-848f-4ab8-cc6d-71b40aecdafc"
      },
      "outputs": [
        {
          "name": "stdout",
          "output_type": "stream",
          "text": [
            "Tensorflow version 2.9.0-dev20220115\n"
          ]
        }
      ],
      "source": [
        "import os\n",
        "import sys\n",
        "import numpy as np\n",
        "import matplotlib.pyplot as plt\n",
        "\n",
        "import tensorflow as tf\n",
        "from tensorflow import keras\n",
        "from tensorflow.keras import datasets, layers, models, losses, Model\n",
        "from typing import Tuple\n",
        "tf.compat.v1.enable_eager_execution()\n",
        "\n",
        "\n",
        "os.environ[\"cuda_visible_devices\"]=\"0\" \n",
        "\n",
        "from glob import glob\n",
        "import io\n",
        "from PIL import Image\n",
        "\n",
        "import math, re, os\n",
        "import numpy as np\n",
        "\n",
        "from collections import Counter\n",
        "\n",
        "print(\"Tensorflow version \" + tf.__version__)"
      ]
    },
    {
      "cell_type": "code",
      "execution_count": null,
      "metadata": {
        "id": "eUfhcROadPVp",
        "outputId": "dd781e52-3199-4d5b-cc4d-d73f84df9188"
      },
      "outputs": [
        {
          "name": "stdout",
          "output_type": "stream",
          "text": [
            "Default GPU Device:/device:GPU:0\n"
          ]
        }
      ],
      "source": [
        "if tf.test.gpu_device_name(): \n",
        "\n",
        "    print('Default GPU Device:{}'.format(tf.test.gpu_device_name()))"
      ]
    },
    {
      "cell_type": "code",
      "execution_count": null,
      "metadata": {
        "colab": {
          "base_uri": "https://localhost:8080/",
          "height": 35
        },
        "id": "h97Z-Qd8mlO8",
        "outputId": "126b275c-f955-4dd9-ffb8-0be72347df5e"
      },
      "outputs": [
        {
          "data": {
            "text/plain": [
              "'PREPROCESSING'"
            ]
          },
          "execution_count": 4,
          "metadata": {},
          "output_type": "execute_result"
        }
      ],
      "source": [
        "\"\"\"\"\"\"\"\"\"\"\"\"\"\"\"\"\"\"\"\"\"\"\"\"\"\"\"\"\"\"\"\"\"\"\"\"\"\"\"\"\"\"\"\"\"\"\"\"\"\"\"\"\"\"\"\"\"\"\"\"\"\"\"PREPROCESSING\"\"\"\"\"\"\"\"\"\"\"\"\"\"\"\"\"\"\"\"\"\"\"\"\"\"\"\"\"\"\"\"\"\"\"\"\"\"\"\"\"\"\"\"\"\"\"\"\"\"\"\"\"\"\"\"\"\"\"\"\"\"\""
      ]
    },
    {
      "cell_type": "code",
      "execution_count": null,
      "metadata": {
        "id": "kCJoukJGdUq7"
      },
      "outputs": [],
      "source": [
        "IMAGE_SIZE = [224, 224]\n",
        "PATH = 'C:/Users/Dat Nguyen/Desktop/Assignments/Machine Learning/New folder/combined_data_splitted'\n",
        "\n",
        "AUTO = tf.data.experimental.AUTOTUNE\n",
        "BATCH_SIZE = 16\n",
        "\n",
        "TRAIN_PATH = tf.io.gfile.glob(PATH + '/train/*.tfrecord')\n",
        "VAL_PATH = tf.io.gfile.glob(PATH + '/validation/*.tfrecord')\n",
        "TEST_PATH = tf.io.gfile.glob(PATH + '/test/*.tfrecord')"
      ]
    },
    {
      "cell_type": "code",
      "execution_count": null,
      "metadata": {
        "id": "1GEwWmetdhxE"
      },
      "outputs": [],
      "source": [
        "CLASSES = ['pink primrose',\n",
        " 'wild geranium',\n",
        " 'spear thistle',\n",
        " 'yellow iris',\n",
        " 'wallflower',\n",
        " 'buttercup',\n",
        " 'daisy',\n",
        " 'common dandelion',\n",
        " 'petunia',\n",
        " 'sunflower',\n",
        " 'iris',\n",
        " 'windflower',\n",
        " 'water lily',\n",
        " 'rose',\n",
        " 'morning glory',\n",
        " 'frangipani',\n",
        " 'cyclamen ',\n",
        " 'foxglove',\n",
        " 'common tulip',\n",
        " 'wild rose']"
      ]
    },
    {
      "cell_type": "code",
      "execution_count": null,
      "metadata": {
        "id": "htGL0s0tdlvM"
      },
      "outputs": [],
      "source": [
        "\n",
        "def decode_image(image_data):\n",
        "    image = tf.image.decode_jpeg(image_data, channels=3)\n",
        "    image = tf.cast(image, tf.float32) / 255.0  # convert image to floats in [0, 1] range\n",
        "    image = tf.reshape(image, [*IMAGE_SIZE, 3]) # explicit size needed for TPU\n",
        "    return image\n",
        "\n",
        "def read_labeled_tfrecord(example):\n",
        "    LABELED_TFREC_FORMAT = {\n",
        "        \"image\": tf.io.FixedLenFeature([], tf.string), # tf.string means bytestring\n",
        "        \"class\": tf.io.FixedLenFeature([], tf.int64),  # shape [] means single element\n",
        "    }\n",
        "    example = tf.io.parse_single_example(example, LABELED_TFREC_FORMAT)\n",
        "    image = decode_image(example['image'])\n",
        "    label = tf.cast(example['class'], tf.int32)\n",
        "    return image, label # returns a dataset of (image, label) pairs\n",
        "\n",
        "\n",
        "def load_dataset(filenames, labeled=True, ordered=False):\n",
        "    # Read from TFRecords. For optimal performance, reading from multiple files at once and\n",
        "    # disregarding data order. Order does not matter since we will be shuffling the data anyway.\n",
        "\n",
        "    ignore_order = tf.data.Options()\n",
        "    if not ordered:\n",
        "        ignore_order.experimental_deterministic = False # disable order, increase speed\n",
        "\n",
        "    dataset = tf.data.TFRecordDataset(filenames, num_parallel_reads=AUTO) # automatically interleaves reads from multiple files\n",
        "    dataset = dataset.with_options(ignore_order) # uses data as soon as it streams in, rather than in its original order\n",
        "    dataset = dataset.map(read_labeled_tfrecord, num_parallel_calls=AUTO)\n",
        "    # returns a dataset of (image, label) pairs if labeled=True or (image, id) pairs if labeled=False\n",
        "    return dataset"
      ]
    },
    {
      "cell_type": "code",
      "execution_count": null,
      "metadata": {
        "id": "SeBW-xSmdthn"
      },
      "outputs": [],
      "source": [
        "def duplicate_label(image, label):\n",
        "  return image, (label, label, label)\n",
        "\n",
        "def data_augment(image, label):\n",
        "    # Thanks to the dataset.prefetch(AUTO)\n",
        "    # statement in the next function (below), this happens essentially\n",
        "    # for free on TPU. Data pipeline code is executed on the \"CPU\"\n",
        "    # part of the TPU while the TPU itself is computing gradients.\n",
        "    image = tf.image.random_flip_left_right(image)\n",
        "    image = tf.image.random_saturation(image, 0, 2)\n",
        "    return image, label   \n",
        "\n",
        "\n",
        "def get_training_dataset(path = TRAIN_PATH, labeled = True):\n",
        "    dataset = load_dataset(path)\n",
        "    dataset = dataset.map(data_augment, num_parallel_calls=AUTO)\n",
        "    dataset = dataset.shuffle(6536)\n",
        "    dataset = dataset.batch(BATCH_SIZE)\n",
        "    dataset = dataset.prefetch(AUTO) # prefetch next batch while training (autotune prefetch buffer size)\n",
        "    return dataset\n",
        "\n",
        "def get_validation_dataset(path = VAL_PATH):\n",
        "    dataset = load_dataset(path)\n",
        "    dataset = dataset.batch(BATCH_SIZE)\n",
        "    dataset = dataset.cache()\n",
        "    dataset = dataset.prefetch(AUTO)\n",
        "    return dataset\n",
        "\n",
        "def get_test_dataset(path = TEST_PATH):\n",
        "    dataset = load_dataset(path)\n",
        "    dataset = dataset.batch(BATCH_SIZE)\n",
        "    dataset = dataset.prefetch(AUTO)\n",
        "    return dataset\n"
      ]
    },
    {
      "cell_type": "code",
      "execution_count": null,
      "metadata": {
        "id": "LozZLHp8iVng"
      },
      "outputs": [],
      "source": [
        "ds_train = get_training_dataset()\n",
        "ds_val = get_validation_dataset()\n",
        "ds_test = get_test_dataset()"
      ]
    },
    {
      "cell_type": "code",
      "execution_count": null,
      "metadata": {
        "id": "P570ZUOEwgkp"
      },
      "outputs": [],
      "source": [
        "ds_train = ds_train.map(duplicate_label, num_parallel_calls=AUTO)\n",
        "ds_val = ds_val.map(duplicate_label, num_parallel_calls=AUTO)\n",
        "ds_test = ds_test.map(duplicate_label, num_parallel_calls=AUTO)"
      ]
    },
    {
      "cell_type": "code",
      "execution_count": null,
      "metadata": {
        "colab": {
          "base_uri": "https://localhost:8080/",
          "height": 35
        },
        "id": "QBzGFzVMmz81",
        "outputId": "a60afd8c-5023-497e-b8b8-f0e6937a9e7d"
      },
      "outputs": [
        {
          "data": {
            "text/plain": [
              "'NETWORK DESIGN'"
            ]
          },
          "execution_count": 11,
          "metadata": {},
          "output_type": "execute_result"
        }
      ],
      "source": [
        "\"\"\"\"\"\"\"\"\"\"\"\"\"\"\"\"\"\"\"\"\"\"\"\"\"\"\"\"\"\"\"\"\"\"\"\"\"\"\"\"\"\"\"\"\"\"\"\"\"\"\"\"\"\"\"\"\"\"\"\"\"\"\"NETWORK DESIGN\"\"\"\"\"\"\"\"\"\"\"\"\"\"\"\"\"\"\"\"\"\"\"\"\"\"\"\"\"\"\"\"\"\"\"\"\"\"\"\"\"\"\"\"\"\"\"\"\"\"\"\"\"\"\"\"\"\"\"\"\"\"\""
      ]
    },
    {
      "cell_type": "code",
      "execution_count": null,
      "metadata": {
        "id": "6sCa_DmvnimL"
      },
      "outputs": [],
      "source": [
        "def inception(x,\n",
        "              filters_1x1,\n",
        "              filters_3x3_reduce,\n",
        "              filters_3x3,\n",
        "              filters_5x5_reduce,\n",
        "              filters_5x5,\n",
        "              filters_pool):\n",
        "  path1 = layers.Conv2D(filters_1x1, (1, 1), padding='same', activation='relu')(x)\n",
        "\n",
        "  path2 = layers.Conv2D(filters_3x3_reduce, (1, 1), padding='same', activation='relu')(x)\n",
        "  path2 = layers.Conv2D(filters_3x3, (1, 1), padding='same', activation='relu')(path2)\n",
        "\n",
        "  path3 = layers.Conv2D(filters_5x5_reduce, (1, 1), padding='same', activation='relu')(x)\n",
        "  path3 = layers.Conv2D(filters_5x5, (1, 1), padding='same', activation='relu')(path3)\n",
        "\n",
        "  path4 = layers.MaxPool2D((3, 3), strides=(1, 1), padding='same')(x)\n",
        "  path4 = layers.Conv2D(filters_pool, (1, 1), padding='same', activation='relu')(path4)\n",
        "\n",
        "  return tf.concat([path1, path2, path3, path4], axis=3)"
      ]
    },
    {
      "cell_type": "code",
      "execution_count": null,
      "metadata": {
        "id": "weAL0WF-m-pe"
      },
      "outputs": [],
      "source": [
        "inp = layers.Input(shape=(224, 224, 3))\n",
        "\n",
        "x = layers.Conv2D(64, 7, strides=2, padding='same', activation='relu')(inp)\n",
        "x = layers.MaxPooling2D(3, strides=2)(x)\n",
        "\n",
        "x = layers.Conv2D(64, 1, strides=1, padding='same', activation='relu')(x)\n",
        "x = layers.Conv2D(192, 3, strides=1, padding='same', activation='relu')(x)\n",
        "\n",
        "x = layers.MaxPooling2D(3, strides=2)(x)\n",
        "\n",
        "x = inception(x,\n",
        "              filters_1x1=64,\n",
        "              filters_3x3_reduce=96,\n",
        "              filters_3x3=128,\n",
        "              filters_5x5_reduce=16,\n",
        "              filters_5x5=32,\n",
        "              filters_pool=32)\n",
        "\n",
        "x = inception(x,\n",
        "              filters_1x1=128,\n",
        "              filters_3x3_reduce=128,\n",
        "              filters_3x3=192,\n",
        "              filters_5x5_reduce=32,\n",
        "              filters_5x5=96,\n",
        "              filters_pool=64)\n",
        "\n",
        "x = layers.MaxPooling2D(3, strides=2)(x)\n",
        "\n",
        "x = inception(x,\n",
        "              filters_1x1=192,\n",
        "              filters_3x3_reduce=96,\n",
        "              filters_3x3=208,\n",
        "              filters_5x5_reduce=16,\n",
        "              filters_5x5=48,\n",
        "              filters_pool=64)\n",
        "\n",
        "aux1 = layers.AveragePooling2D((5, 5), strides=3)(x)\n",
        "aux1 = layers.Conv2D(128, 1, padding='same', activation='relu')(aux1)\n",
        "aux1 = layers.Flatten()(aux1)\n",
        "aux1 = layers.Dense(1024, activation='relu')(aux1)\n",
        "aux1 = layers.Dropout(0.7)(aux1)\n",
        "aux1 = layers.Dense(20, activation='softmax')(aux1)\n",
        "\n",
        "x = inception(x,\n",
        "              filters_1x1=160,\n",
        "              filters_3x3_reduce=112,\n",
        "              filters_3x3=224,\n",
        "              filters_5x5_reduce=24,\n",
        "              filters_5x5=64,\n",
        "              filters_pool=64)\n",
        "\n",
        "x = inception(x,\n",
        "              filters_1x1=128,\n",
        "              filters_3x3_reduce=128,\n",
        "              filters_3x3=256,\n",
        "              filters_5x5_reduce=24,\n",
        "              filters_5x5=64,\n",
        "              filters_pool=64)\n",
        "\n",
        "x = inception(x,\n",
        "              filters_1x1=112,\n",
        "              filters_3x3_reduce=144,\n",
        "              filters_3x3=288,\n",
        "              filters_5x5_reduce=32,\n",
        "              filters_5x5=64,\n",
        "              filters_pool=64)\n",
        "\n",
        "aux2 = layers.AveragePooling2D((5, 5), strides=3)(x)\n",
        "aux2 = layers.Conv2D(128, 1, padding='same', activation='relu')(aux2)\n",
        "aux2 = layers.Flatten()(aux2)\n",
        "aux2 = layers.Dense(1024, activation='relu')(aux2)\n",
        "aux2 = layers.Dropout(0.7)(aux2)\n",
        "aux2 = layers.Dense(20, activation='softmax')(aux2)\n",
        "\n",
        "x = inception(x,\n",
        "              filters_1x1=256,\n",
        "              filters_3x3_reduce=160,\n",
        "              filters_3x3=320,\n",
        "              filters_5x5_reduce=32,\n",
        "              filters_5x5=128,\n",
        "              filters_pool=128)\n",
        "\n",
        "x = layers.MaxPooling2D(3, strides=2)(x)\n",
        "\n",
        "x = inception(x,\n",
        "              filters_1x1=256,\n",
        "              filters_3x3_reduce=160,\n",
        "              filters_3x3=320,\n",
        "              filters_5x5_reduce=32,\n",
        "              filters_5x5=128,\n",
        "              filters_pool=128)\n",
        "\n",
        "x = inception(x,\n",
        "              filters_1x1=384,\n",
        "              filters_3x3_reduce=192,\n",
        "              filters_3x3=384,\n",
        "              filters_5x5_reduce=48,\n",
        "              filters_5x5=128,\n",
        "              filters_pool=128)\n",
        "\n",
        "x = layers.GlobalAveragePooling2D()(x)\n",
        "\n",
        "x = layers.Dropout(0.4)(x)\n",
        "out = layers.Dense(20, activation='softmax')(x)"
      ]
    },
    {
      "cell_type": "code",
      "execution_count": null,
      "metadata": {
        "id": "0W7_9eBQoonR"
      },
      "outputs": [],
      "source": [
        "model = Model(inputs = inp, outputs = [out, aux1, aux2])"
      ]
    },
    {
      "cell_type": "code",
      "execution_count": null,
      "metadata": {
        "id": "4i-X8g1nv_yn"
      },
      "outputs": [],
      "source": [
        "model.compile(optimizer='adam', loss=[losses.sparse_categorical_crossentropy, losses.sparse_categorical_crossentropy, losses.sparse_categorical_crossentropy], loss_weights=[1, 0.3, 0.3], metrics=['accuracy'])"
      ]
    },
    {
      "cell_type": "code",
      "execution_count": null,
      "metadata": {
        "id": "21-ptLecHS8N",
        "outputId": "38236d40-2f1b-4d1b-a443-0288461a2dab"
      },
      "outputs": [
        {
          "name": "stdout",
          "output_type": "stream",
          "text": [
            "Model: \"model\"\n",
            "__________________________________________________________________________________________________\n",
            " Layer (type)                   Output Shape         Param #     Connected to                     \n",
            "==================================================================================================\n",
            " input_1 (InputLayer)           [(None, 224, 224, 3  0           []                               \n",
            "                                )]                                                                \n",
            "                                                                                                  \n",
            " conv2d (Conv2D)                (None, 112, 112, 64  9472        ['input_1[0][0]']                \n",
            "                                )                                                                 \n",
            "                                                                                                  \n",
            " max_pooling2d (MaxPooling2D)   (None, 55, 55, 64)   0           ['conv2d[0][0]']                 \n",
            "                                                                                                  \n",
            " conv2d_1 (Conv2D)              (None, 55, 55, 64)   4160        ['max_pooling2d[0][0]']          \n",
            "                                                                                                  \n",
            " conv2d_2 (Conv2D)              (None, 55, 55, 192)  110784      ['conv2d_1[0][0]']               \n",
            "                                                                                                  \n",
            " max_pooling2d_1 (MaxPooling2D)  (None, 27, 27, 192)  0          ['conv2d_2[0][0]']               \n",
            "                                                                                                  \n",
            " conv2d_4 (Conv2D)              (None, 27, 27, 96)   18528       ['max_pooling2d_1[0][0]']        \n",
            "                                                                                                  \n",
            " conv2d_6 (Conv2D)              (None, 27, 27, 16)   3088        ['max_pooling2d_1[0][0]']        \n",
            "                                                                                                  \n",
            " max_pooling2d_2 (MaxPooling2D)  (None, 27, 27, 192)  0          ['max_pooling2d_1[0][0]']        \n",
            "                                                                                                  \n",
            " conv2d_3 (Conv2D)              (None, 27, 27, 64)   12352       ['max_pooling2d_1[0][0]']        \n",
            "                                                                                                  \n",
            " conv2d_5 (Conv2D)              (None, 27, 27, 128)  12416       ['conv2d_4[0][0]']               \n",
            "                                                                                                  \n",
            " conv2d_7 (Conv2D)              (None, 27, 27, 32)   544         ['conv2d_6[0][0]']               \n",
            "                                                                                                  \n",
            " conv2d_8 (Conv2D)              (None, 27, 27, 32)   6176        ['max_pooling2d_2[0][0]']        \n",
            "                                                                                                  \n",
            " tf.concat (TFOpLambda)         (None, 27, 27, 256)  0           ['conv2d_3[0][0]',               \n",
            "                                                                  'conv2d_5[0][0]',               \n",
            "                                                                  'conv2d_7[0][0]',               \n",
            "                                                                  'conv2d_8[0][0]']               \n",
            "                                                                                                  \n",
            " conv2d_10 (Conv2D)             (None, 27, 27, 128)  32896       ['tf.concat[0][0]']              \n",
            "                                                                                                  \n",
            " conv2d_12 (Conv2D)             (None, 27, 27, 32)   8224        ['tf.concat[0][0]']              \n",
            "                                                                                                  \n",
            " max_pooling2d_3 (MaxPooling2D)  (None, 27, 27, 256)  0          ['tf.concat[0][0]']              \n",
            "                                                                                                  \n",
            " conv2d_9 (Conv2D)              (None, 27, 27, 128)  32896       ['tf.concat[0][0]']              \n",
            "                                                                                                  \n",
            " conv2d_11 (Conv2D)             (None, 27, 27, 192)  24768       ['conv2d_10[0][0]']              \n",
            "                                                                                                  \n",
            " conv2d_13 (Conv2D)             (None, 27, 27, 96)   3168        ['conv2d_12[0][0]']              \n",
            "                                                                                                  \n",
            " conv2d_14 (Conv2D)             (None, 27, 27, 64)   16448       ['max_pooling2d_3[0][0]']        \n",
            "                                                                                                  \n",
            " tf.concat_1 (TFOpLambda)       (None, 27, 27, 480)  0           ['conv2d_9[0][0]',               \n",
            "                                                                  'conv2d_11[0][0]',              \n",
            "                                                                  'conv2d_13[0][0]',              \n",
            "                                                                  'conv2d_14[0][0]']              \n",
            "                                                                                                  \n",
            " max_pooling2d_4 (MaxPooling2D)  (None, 13, 13, 480)  0          ['tf.concat_1[0][0]']            \n",
            "                                                                                                  \n",
            " conv2d_16 (Conv2D)             (None, 13, 13, 96)   46176       ['max_pooling2d_4[0][0]']        \n",
            "                                                                                                  \n",
            " conv2d_18 (Conv2D)             (None, 13, 13, 16)   7696        ['max_pooling2d_4[0][0]']        \n",
            "                                                                                                  \n",
            " max_pooling2d_5 (MaxPooling2D)  (None, 13, 13, 480)  0          ['max_pooling2d_4[0][0]']        \n",
            "                                                                                                  \n",
            " conv2d_15 (Conv2D)             (None, 13, 13, 192)  92352       ['max_pooling2d_4[0][0]']        \n",
            "                                                                                                  \n",
            " conv2d_17 (Conv2D)             (None, 13, 13, 208)  20176       ['conv2d_16[0][0]']              \n",
            "                                                                                                  \n",
            " conv2d_19 (Conv2D)             (None, 13, 13, 48)   816         ['conv2d_18[0][0]']              \n",
            "                                                                                                  \n",
            " conv2d_20 (Conv2D)             (None, 13, 13, 64)   30784       ['max_pooling2d_5[0][0]']        \n",
            "                                                                                                  \n",
            " tf.concat_2 (TFOpLambda)       (None, 13, 13, 512)  0           ['conv2d_15[0][0]',              \n",
            "                                                                  'conv2d_17[0][0]',              \n",
            "                                                                  'conv2d_19[0][0]',              \n",
            "                                                                  'conv2d_20[0][0]']              \n",
            "                                                                                                  \n",
            " conv2d_23 (Conv2D)             (None, 13, 13, 112)  57456       ['tf.concat_2[0][0]']            \n",
            "                                                                                                  \n",
            " conv2d_25 (Conv2D)             (None, 13, 13, 24)   12312       ['tf.concat_2[0][0]']            \n",
            "                                                                                                  \n",
            " max_pooling2d_6 (MaxPooling2D)  (None, 13, 13, 512)  0          ['tf.concat_2[0][0]']            \n",
            "                                                                                                  \n",
            " conv2d_22 (Conv2D)             (None, 13, 13, 160)  82080       ['tf.concat_2[0][0]']            \n"
          ]
        },
        {
          "name": "stdout",
          "output_type": "stream",
          "text": [
            "                                                                                                  \n",
            " conv2d_24 (Conv2D)             (None, 13, 13, 224)  25312       ['conv2d_23[0][0]']              \n",
            "                                                                                                  \n",
            " conv2d_26 (Conv2D)             (None, 13, 13, 64)   1600        ['conv2d_25[0][0]']              \n",
            "                                                                                                  \n",
            " conv2d_27 (Conv2D)             (None, 13, 13, 64)   32832       ['max_pooling2d_6[0][0]']        \n",
            "                                                                                                  \n",
            " tf.concat_3 (TFOpLambda)       (None, 13, 13, 512)  0           ['conv2d_22[0][0]',              \n",
            "                                                                  'conv2d_24[0][0]',              \n",
            "                                                                  'conv2d_26[0][0]',              \n",
            "                                                                  'conv2d_27[0][0]']              \n",
            "                                                                                                  \n",
            " conv2d_29 (Conv2D)             (None, 13, 13, 128)  65664       ['tf.concat_3[0][0]']            \n",
            "                                                                                                  \n",
            " conv2d_31 (Conv2D)             (None, 13, 13, 24)   12312       ['tf.concat_3[0][0]']            \n",
            "                                                                                                  \n",
            " max_pooling2d_7 (MaxPooling2D)  (None, 13, 13, 512)  0          ['tf.concat_3[0][0]']            \n",
            "                                                                                                  \n",
            " conv2d_28 (Conv2D)             (None, 13, 13, 128)  65664       ['tf.concat_3[0][0]']            \n",
            "                                                                                                  \n",
            " conv2d_30 (Conv2D)             (None, 13, 13, 256)  33024       ['conv2d_29[0][0]']              \n",
            "                                                                                                  \n",
            " conv2d_32 (Conv2D)             (None, 13, 13, 64)   1600        ['conv2d_31[0][0]']              \n",
            "                                                                                                  \n",
            " conv2d_33 (Conv2D)             (None, 13, 13, 64)   32832       ['max_pooling2d_7[0][0]']        \n",
            "                                                                                                  \n",
            " tf.concat_4 (TFOpLambda)       (None, 13, 13, 512)  0           ['conv2d_28[0][0]',              \n",
            "                                                                  'conv2d_30[0][0]',              \n",
            "                                                                  'conv2d_32[0][0]',              \n",
            "                                                                  'conv2d_33[0][0]']              \n",
            "                                                                                                  \n",
            " conv2d_35 (Conv2D)             (None, 13, 13, 144)  73872       ['tf.concat_4[0][0]']            \n",
            "                                                                                                  \n",
            " conv2d_37 (Conv2D)             (None, 13, 13, 32)   16416       ['tf.concat_4[0][0]']            \n",
            "                                                                                                  \n",
            " max_pooling2d_8 (MaxPooling2D)  (None, 13, 13, 512)  0          ['tf.concat_4[0][0]']            \n",
            "                                                                                                  \n",
            " conv2d_34 (Conv2D)             (None, 13, 13, 112)  57456       ['tf.concat_4[0][0]']            \n",
            "                                                                                                  \n",
            " conv2d_36 (Conv2D)             (None, 13, 13, 288)  41760       ['conv2d_35[0][0]']              \n",
            "                                                                                                  \n",
            " conv2d_38 (Conv2D)             (None, 13, 13, 64)   2112        ['conv2d_37[0][0]']              \n",
            "                                                                                                  \n",
            " conv2d_39 (Conv2D)             (None, 13, 13, 64)   32832       ['max_pooling2d_8[0][0]']        \n",
            "                                                                                                  \n",
            " tf.concat_5 (TFOpLambda)       (None, 13, 13, 528)  0           ['conv2d_34[0][0]',              \n",
            "                                                                  'conv2d_36[0][0]',              \n",
            "                                                                  'conv2d_38[0][0]',              \n",
            "                                                                  'conv2d_39[0][0]']              \n",
            "                                                                                                  \n",
            " conv2d_42 (Conv2D)             (None, 13, 13, 160)  84640       ['tf.concat_5[0][0]']            \n",
            "                                                                                                  \n",
            " conv2d_44 (Conv2D)             (None, 13, 13, 32)   16928       ['tf.concat_5[0][0]']            \n",
            "                                                                                                  \n",
            " max_pooling2d_9 (MaxPooling2D)  (None, 13, 13, 528)  0          ['tf.concat_5[0][0]']            \n",
            "                                                                                                  \n",
            " conv2d_41 (Conv2D)             (None, 13, 13, 256)  135424      ['tf.concat_5[0][0]']            \n",
            "                                                                                                  \n",
            " conv2d_43 (Conv2D)             (None, 13, 13, 320)  51520       ['conv2d_42[0][0]']              \n",
            "                                                                                                  \n",
            " conv2d_45 (Conv2D)             (None, 13, 13, 128)  4224        ['conv2d_44[0][0]']              \n",
            "                                                                                                  \n",
            " conv2d_46 (Conv2D)             (None, 13, 13, 128)  67712       ['max_pooling2d_9[0][0]']        \n",
            "                                                                                                  \n",
            " tf.concat_6 (TFOpLambda)       (None, 13, 13, 832)  0           ['conv2d_41[0][0]',              \n",
            "                                                                  'conv2d_43[0][0]',              \n",
            "                                                                  'conv2d_45[0][0]',              \n",
            "                                                                  'conv2d_46[0][0]']              \n",
            "                                                                                                  \n",
            " max_pooling2d_10 (MaxPooling2D  (None, 6, 6, 832)   0           ['tf.concat_6[0][0]']            \n",
            " )                                                                                                \n",
            "                                                                                                  \n",
            " conv2d_48 (Conv2D)             (None, 6, 6, 160)    133280      ['max_pooling2d_10[0][0]']       \n",
            "                                                                                                  \n",
            " conv2d_50 (Conv2D)             (None, 6, 6, 32)     26656       ['max_pooling2d_10[0][0]']       \n",
            "                                                                                                  \n",
            " max_pooling2d_11 (MaxPooling2D  (None, 6, 6, 832)   0           ['max_pooling2d_10[0][0]']       \n",
            " )                                                                                                \n",
            "                                                                                                  \n",
            " conv2d_47 (Conv2D)             (None, 6, 6, 256)    213248      ['max_pooling2d_10[0][0]']       \n",
            "                                                                                                  \n",
            " conv2d_49 (Conv2D)             (None, 6, 6, 320)    51520       ['conv2d_48[0][0]']              \n",
            "                                                                                                  \n"
          ]
        },
        {
          "name": "stdout",
          "output_type": "stream",
          "text": [
            " conv2d_51 (Conv2D)             (None, 6, 6, 128)    4224        ['conv2d_50[0][0]']              \n",
            "                                                                                                  \n",
            " conv2d_52 (Conv2D)             (None, 6, 6, 128)    106624      ['max_pooling2d_11[0][0]']       \n",
            "                                                                                                  \n",
            " tf.concat_7 (TFOpLambda)       (None, 6, 6, 832)    0           ['conv2d_47[0][0]',              \n",
            "                                                                  'conv2d_49[0][0]',              \n",
            "                                                                  'conv2d_51[0][0]',              \n",
            "                                                                  'conv2d_52[0][0]']              \n",
            "                                                                                                  \n",
            " conv2d_54 (Conv2D)             (None, 6, 6, 192)    159936      ['tf.concat_7[0][0]']            \n",
            "                                                                                                  \n",
            " conv2d_56 (Conv2D)             (None, 6, 6, 48)     39984       ['tf.concat_7[0][0]']            \n",
            "                                                                                                  \n",
            " max_pooling2d_12 (MaxPooling2D  (None, 6, 6, 832)   0           ['tf.concat_7[0][0]']            \n",
            " )                                                                                                \n",
            "                                                                                                  \n",
            " average_pooling2d (AveragePool  (None, 3, 3, 512)   0           ['tf.concat_2[0][0]']            \n",
            " ing2D)                                                                                           \n",
            "                                                                                                  \n",
            " average_pooling2d_1 (AveragePo  (None, 3, 3, 528)   0           ['tf.concat_5[0][0]']            \n",
            " oling2D)                                                                                         \n",
            "                                                                                                  \n",
            " conv2d_53 (Conv2D)             (None, 6, 6, 384)    319872      ['tf.concat_7[0][0]']            \n",
            "                                                                                                  \n",
            " conv2d_55 (Conv2D)             (None, 6, 6, 384)    74112       ['conv2d_54[0][0]']              \n",
            "                                                                                                  \n",
            " conv2d_57 (Conv2D)             (None, 6, 6, 128)    6272        ['conv2d_56[0][0]']              \n",
            "                                                                                                  \n",
            " conv2d_58 (Conv2D)             (None, 6, 6, 128)    106624      ['max_pooling2d_12[0][0]']       \n",
            "                                                                                                  \n",
            " conv2d_21 (Conv2D)             (None, 3, 3, 128)    65664       ['average_pooling2d[0][0]']      \n",
            "                                                                                                  \n",
            " conv2d_40 (Conv2D)             (None, 3, 3, 128)    67712       ['average_pooling2d_1[0][0]']    \n",
            "                                                                                                  \n",
            " tf.concat_8 (TFOpLambda)       (None, 6, 6, 1024)   0           ['conv2d_53[0][0]',              \n",
            "                                                                  'conv2d_55[0][0]',              \n",
            "                                                                  'conv2d_57[0][0]',              \n",
            "                                                                  'conv2d_58[0][0]']              \n",
            "                                                                                                  \n",
            " flatten (Flatten)              (None, 1152)         0           ['conv2d_21[0][0]']              \n",
            "                                                                                                  \n",
            " flatten_1 (Flatten)            (None, 1152)         0           ['conv2d_40[0][0]']              \n",
            "                                                                                                  \n",
            " global_average_pooling2d (Glob  (None, 1024)        0           ['tf.concat_8[0][0]']            \n",
            " alAveragePooling2D)                                                                              \n",
            "                                                                                                  \n",
            " dense (Dense)                  (None, 1024)         1180672     ['flatten[0][0]']                \n",
            "                                                                                                  \n",
            " dense_2 (Dense)                (None, 1024)         1180672     ['flatten_1[0][0]']              \n",
            "                                                                                                  \n",
            " dropout_2 (Dropout)            (None, 1024)         0           ['global_average_pooling2d[0][0]'\n",
            "                                                                 ]                                \n",
            "                                                                                                  \n",
            " dropout (Dropout)              (None, 1024)         0           ['dense[0][0]']                  \n",
            "                                                                                                  \n",
            " dropout_1 (Dropout)            (None, 1024)         0           ['dense_2[0][0]']                \n",
            "                                                                                                  \n",
            " dense_4 (Dense)                (None, 20)           20500       ['dropout_2[0][0]']              \n",
            "                                                                                                  \n",
            " dense_1 (Dense)                (None, 20)           20500       ['dropout[0][0]']                \n",
            "                                                                                                  \n",
            " dense_3 (Dense)                (None, 20)           20500       ['dropout_1[0][0]']              \n",
            "                                                                                                  \n",
            "==================================================================================================\n",
            "Total params: 5,300,076\n",
            "Trainable params: 5,300,076\n",
            "Non-trainable params: 0\n",
            "__________________________________________________________________________________________________\n"
          ]
        }
      ],
      "source": [
        "model.summary()"
      ]
    },
    {
      "cell_type": "code",
      "execution_count": null,
      "metadata": {
        "colab": {
          "base_uri": "https://localhost:8080/"
        },
        "id": "2SocgqazwDdj",
        "outputId": "3d1bd2b1-128f-460d-e551-32ec508e6f97"
      },
      "outputs": [
        {
          "name": "stdout",
          "output_type": "stream",
          "text": [
            "Epoch 1/120\n",
            "409/409 [==============================] - 56s 110ms/step - loss: 4.5219 - dense_4_loss: 2.8241 - dense_1_loss: 2.8227 - dense_3_loss: 2.8364 - dense_4_accuracy: 0.1327 - dense_1_accuracy: 0.1371 - dense_3_accuracy: 0.1383 - val_loss: 4.5099 - val_dense_4_loss: 2.8227 - val_dense_1_loss: 2.8010 - val_dense_3_loss: 2.8228 - val_dense_4_accuracy: 0.1550 - val_dense_1_accuracy: 0.1500 - val_dense_3_accuracy: 0.1550\n",
            "Epoch 2/120\n",
            "409/409 [==============================] - 41s 96ms/step - loss: 4.2335 - dense_4_loss: 2.6510 - dense_1_loss: 2.6194 - dense_3_loss: 2.6558 - dense_4_accuracy: 0.1651 - dense_1_accuracy: 0.1728 - dense_3_accuracy: 0.1663 - val_loss: 3.8342 - val_dense_4_loss: 2.4179 - val_dense_1_loss: 2.3228 - val_dense_3_loss: 2.3982 - val_dense_4_accuracy: 0.2293 - val_dense_1_accuracy: 0.2586 - val_dense_3_accuracy: 0.2429\n",
            "Epoch 3/120\n",
            "409/409 [==============================] - 41s 96ms/step - loss: 3.8778 - dense_4_loss: 2.4266 - dense_1_loss: 2.4026 - dense_3_loss: 2.4346 - dense_4_accuracy: 0.2106 - dense_1_accuracy: 0.2308 - dense_3_accuracy: 0.2188 - val_loss: 3.5870 - val_dense_4_loss: 2.2717 - val_dense_1_loss: 2.1581 - val_dense_3_loss: 2.2260 - val_dense_4_accuracy: 0.2714 - val_dense_1_accuracy: 0.2964 - val_dense_3_accuracy: 0.2829\n",
            "Epoch 4/120\n",
            "409/409 [==============================] - 41s 97ms/step - loss: 3.6498 - dense_4_loss: 2.2804 - dense_1_loss: 2.2659 - dense_3_loss: 2.2987 - dense_4_accuracy: 0.2617 - dense_1_accuracy: 0.2735 - dense_3_accuracy: 0.2627 - val_loss: 3.4171 - val_dense_4_loss: 2.1606 - val_dense_1_loss: 2.0534 - val_dense_3_loss: 2.1349 - val_dense_4_accuracy: 0.2871 - val_dense_1_accuracy: 0.3329 - val_dense_3_accuracy: 0.2857\n",
            "Epoch 5/120\n",
            "409/409 [==============================] - 42s 97ms/step - loss: 3.4273 - dense_4_loss: 2.1398 - dense_1_loss: 2.1279 - dense_3_loss: 2.1635 - dense_4_accuracy: 0.3041 - dense_1_accuracy: 0.3109 - dense_3_accuracy: 0.3015 - val_loss: 3.1122 - val_dense_4_loss: 1.9548 - val_dense_1_loss: 1.8934 - val_dense_3_loss: 1.9647 - val_dense_4_accuracy: 0.3507 - val_dense_1_accuracy: 0.3636 - val_dense_3_accuracy: 0.3536\n",
            "Epoch 6/120\n",
            "409/409 [==============================] - 42s 97ms/step - loss: 3.2699 - dense_4_loss: 2.0390 - dense_1_loss: 2.0342 - dense_3_loss: 2.0691 - dense_4_accuracy: 0.3301 - dense_1_accuracy: 0.3394 - dense_3_accuracy: 0.3255 - val_loss: 2.8801 - val_dense_4_loss: 1.8083 - val_dense_1_loss: 1.7657 - val_dense_3_loss: 1.8069 - val_dense_4_accuracy: 0.3843 - val_dense_1_accuracy: 0.4193 - val_dense_3_accuracy: 0.3979\n",
            "Epoch 7/120\n",
            "409/409 [==============================] - 42s 97ms/step - loss: 3.1578 - dense_4_loss: 1.9700 - dense_1_loss: 1.9698 - dense_3_loss: 1.9893 - dense_4_accuracy: 0.3492 - dense_1_accuracy: 0.3452 - dense_3_accuracy: 0.3498 - val_loss: 2.7279 - val_dense_4_loss: 1.6974 - val_dense_1_loss: 1.7123 - val_dense_3_loss: 1.7225 - val_dense_4_accuracy: 0.4400 - val_dense_1_accuracy: 0.4329 - val_dense_3_accuracy: 0.4329\n",
            "Epoch 8/120\n",
            "409/409 [==============================] - 42s 97ms/step - loss: 2.9921 - dense_4_loss: 1.8613 - dense_1_loss: 1.8786 - dense_3_loss: 1.8909 - dense_4_accuracy: 0.3813 - dense_1_accuracy: 0.3824 - dense_3_accuracy: 0.3796 - val_loss: 2.7841 - val_dense_4_loss: 1.7518 - val_dense_1_loss: 1.7049 - val_dense_3_loss: 1.7360 - val_dense_4_accuracy: 0.4250 - val_dense_1_accuracy: 0.4471 - val_dense_3_accuracy: 0.4393\n",
            "Epoch 9/120\n",
            "409/409 [==============================] - 42s 97ms/step - loss: 2.9025 - dense_4_loss: 1.8031 - dense_1_loss: 1.8294 - dense_3_loss: 1.8353 - dense_4_accuracy: 0.3995 - dense_1_accuracy: 0.3962 - dense_3_accuracy: 0.3992 - val_loss: 2.5939 - val_dense_4_loss: 1.6048 - val_dense_1_loss: 1.6449 - val_dense_3_loss: 1.6521 - val_dense_4_accuracy: 0.4493 - val_dense_1_accuracy: 0.4507 - val_dense_3_accuracy: 0.4507\n",
            "Epoch 10/120\n",
            "409/409 [==============================] - 43s 97ms/step - loss: 2.8212 - dense_4_loss: 1.7511 - dense_1_loss: 1.7787 - dense_3_loss: 1.7885 - dense_4_accuracy: 0.4141 - dense_1_accuracy: 0.4077 - dense_3_accuracy: 0.4109 - val_loss: 2.6219 - val_dense_4_loss: 1.6446 - val_dense_1_loss: 1.6113 - val_dense_3_loss: 1.6465 - val_dense_4_accuracy: 0.4529 - val_dense_1_accuracy: 0.4707 - val_dense_3_accuracy: 0.4586\n",
            "Epoch 11/120\n",
            "409/409 [==============================] - 43s 97ms/step - loss: 2.7339 - dense_4_loss: 1.6992 - dense_1_loss: 1.7233 - dense_3_loss: 1.7258 - dense_4_accuracy: 0.4346 - dense_1_accuracy: 0.4300 - dense_3_accuracy: 0.4295 - val_loss: 2.5875 - val_dense_4_loss: 1.6296 - val_dense_1_loss: 1.5780 - val_dense_3_loss: 1.6153 - val_dense_4_accuracy: 0.4729 - val_dense_1_accuracy: 0.4957 - val_dense_3_accuracy: 0.4821\n",
            "Epoch 12/120\n",
            "409/409 [==============================] - 43s 97ms/step - loss: 2.7125 - dense_4_loss: 1.6853 - dense_1_loss: 1.7097 - dense_3_loss: 1.7143 - dense_4_accuracy: 0.4387 - dense_1_accuracy: 0.4404 - dense_3_accuracy: 0.4357 - val_loss: 2.4563 - val_dense_4_loss: 1.5445 - val_dense_1_loss: 1.4980 - val_dense_3_loss: 1.5411 - val_dense_4_accuracy: 0.4936 - val_dense_1_accuracy: 0.5143 - val_dense_3_accuracy: 0.4921\n",
            "Epoch 13/120\n",
            "409/409 [==============================] - 43s 97ms/step - loss: 2.6088 - dense_4_loss: 1.6239 - dense_1_loss: 1.6309 - dense_3_loss: 1.6522 - dense_4_accuracy: 0.4595 - dense_1_accuracy: 0.4575 - dense_3_accuracy: 0.4637 - val_loss: 2.4672 - val_dense_4_loss: 1.5424 - val_dense_1_loss: 1.5271 - val_dense_3_loss: 1.5555 - val_dense_4_accuracy: 0.4779 - val_dense_1_accuracy: 0.4693 - val_dense_3_accuracy: 0.4700\n",
            "Epoch 14/120\n",
            "409/409 [==============================] - 44s 98ms/step - loss: 2.5800 - dense_4_loss: 1.6042 - dense_1_loss: 1.6227 - dense_3_loss: 1.6298 - dense_4_accuracy: 0.4672 - dense_1_accuracy: 0.4761 - dense_3_accuracy: 0.4624 - val_loss: 2.3930 - val_dense_4_loss: 1.4886 - val_dense_1_loss: 1.4795 - val_dense_3_loss: 1.5353 - val_dense_4_accuracy: 0.5107 - val_dense_1_accuracy: 0.5286 - val_dense_3_accuracy: 0.4907\n",
            "Epoch 15/120\n",
            "409/409 [==============================] - 44s 98ms/step - loss: 2.5276 - dense_4_loss: 1.5731 - dense_1_loss: 1.5842 - dense_3_loss: 1.5977 - dense_4_accuracy: 0.4751 - dense_1_accuracy: 0.4751 - dense_3_accuracy: 0.4735 - val_loss: 2.3468 - val_dense_4_loss: 1.4668 - val_dense_1_loss: 1.4368 - val_dense_3_loss: 1.4965 - val_dense_4_accuracy: 0.5193 - val_dense_1_accuracy: 0.5300 - val_dense_3_accuracy: 0.5043\n",
            "Epoch 16/120\n",
            "409/409 [==============================] - 45s 97ms/step - loss: 2.4649 - dense_4_loss: 1.5317 - dense_1_loss: 1.5520 - dense_3_loss: 1.5588 - dense_4_accuracy: 0.4920 - dense_1_accuracy: 0.4884 - dense_3_accuracy: 0.4933 - val_loss: 2.5342 - val_dense_4_loss: 1.6174 - val_dense_1_loss: 1.5189 - val_dense_3_loss: 1.5370 - val_dense_4_accuracy: 0.4900 - val_dense_1_accuracy: 0.5114 - val_dense_3_accuracy: 0.5000\n",
            "Epoch 17/120\n",
            "409/409 [==============================] - 44s 97ms/step - loss: 2.4541 - dense_4_loss: 1.5204 - dense_1_loss: 1.5568 - dense_3_loss: 1.5557 - dense_4_accuracy: 0.4926 - dense_1_accuracy: 0.4949 - dense_3_accuracy: 0.4933 - val_loss: 2.3783 - val_dense_4_loss: 1.4953 - val_dense_1_loss: 1.4510 - val_dense_3_loss: 1.4922 - val_dense_4_accuracy: 0.5143 - val_dense_1_accuracy: 0.5286 - val_dense_3_accuracy: 0.5186\n",
            "Epoch 18/120\n",
            "409/409 [==============================] - 45s 98ms/step - loss: 2.3894 - dense_4_loss: 1.4835 - dense_1_loss: 1.5065 - dense_3_loss: 1.5131 - dense_4_accuracy: 0.5074 - dense_1_accuracy: 0.4992 - dense_3_accuracy: 0.5070 - val_loss: 2.3648 - val_dense_4_loss: 1.4837 - val_dense_1_loss: 1.4646 - val_dense_3_loss: 1.4726 - val_dense_4_accuracy: 0.5300 - val_dense_1_accuracy: 0.5293 - val_dense_3_accuracy: 0.5279\n",
            "Epoch 19/120\n",
            "409/409 [==============================] - 45s 98ms/step - loss: 2.3670 - dense_4_loss: 1.4673 - dense_1_loss: 1.4971 - dense_3_loss: 1.5020 - dense_4_accuracy: 0.5177 - dense_1_accuracy: 0.5103 - dense_3_accuracy: 0.5093 - val_loss: 2.3650 - val_dense_4_loss: 1.4759 - val_dense_1_loss: 1.4661 - val_dense_3_loss: 1.4976 - val_dense_4_accuracy: 0.5264 - val_dense_1_accuracy: 0.5350 - val_dense_3_accuracy: 0.5193\n",
            "Epoch 20/120\n"
          ]
        },
        {
          "name": "stdout",
          "output_type": "stream",
          "text": [
            "409/409 [==============================] - 45s 99ms/step - loss: 2.3086 - dense_4_loss: 1.4277 - dense_1_loss: 1.4700 - dense_3_loss: 1.4664 - dense_4_accuracy: 0.5275 - dense_1_accuracy: 0.5177 - dense_3_accuracy: 0.5261 - val_loss: 2.2802 - val_dense_4_loss: 1.4322 - val_dense_1_loss: 1.3949 - val_dense_3_loss: 1.4315 - val_dense_4_accuracy: 0.5300 - val_dense_1_accuracy: 0.5621 - val_dense_3_accuracy: 0.5371\n",
            "Epoch 21/120\n",
            "409/409 [==============================] - 46s 99ms/step - loss: 2.2794 - dense_4_loss: 1.4141 - dense_1_loss: 1.4420 - dense_3_loss: 1.4424 - dense_4_accuracy: 0.5366 - dense_1_accuracy: 0.5265 - dense_3_accuracy: 0.5287 - val_loss: 2.2090 - val_dense_4_loss: 1.3638 - val_dense_1_loss: 1.4066 - val_dense_3_loss: 1.4108 - val_dense_4_accuracy: 0.5479 - val_dense_1_accuracy: 0.5529 - val_dense_3_accuracy: 0.5450\n",
            "Epoch 22/120\n",
            "409/409 [==============================] - 46s 99ms/step - loss: 2.1960 - dense_4_loss: 1.3615 - dense_1_loss: 1.3979 - dense_3_loss: 1.3839 - dense_4_accuracy: 0.5492 - dense_1_accuracy: 0.5425 - dense_3_accuracy: 0.5434 - val_loss: 2.1767 - val_dense_4_loss: 1.3554 - val_dense_1_loss: 1.3752 - val_dense_3_loss: 1.3625 - val_dense_4_accuracy: 0.5564 - val_dense_1_accuracy: 0.5664 - val_dense_3_accuracy: 0.5607\n",
            "Epoch 23/120\n",
            "409/409 [==============================] - 46s 99ms/step - loss: 2.1935 - dense_4_loss: 1.3561 - dense_1_loss: 1.3989 - dense_3_loss: 1.3925 - dense_4_accuracy: 0.5581 - dense_1_accuracy: 0.5340 - dense_3_accuracy: 0.5438 - val_loss: 2.2593 - val_dense_4_loss: 1.4042 - val_dense_1_loss: 1.4402 - val_dense_3_loss: 1.4101 - val_dense_4_accuracy: 0.5429 - val_dense_1_accuracy: 0.5429 - val_dense_3_accuracy: 0.5521\n",
            "Epoch 24/120\n",
            "409/409 [==============================] - 46s 99ms/step - loss: 2.1413 - dense_4_loss: 1.3246 - dense_1_loss: 1.3676 - dense_3_loss: 1.3545 - dense_4_accuracy: 0.5584 - dense_1_accuracy: 0.5555 - dense_3_accuracy: 0.5552 - val_loss: 2.1868 - val_dense_4_loss: 1.3657 - val_dense_1_loss: 1.3625 - val_dense_3_loss: 1.3746 - val_dense_4_accuracy: 0.5486 - val_dense_1_accuracy: 0.5600 - val_dense_3_accuracy: 0.5450\n",
            "Epoch 25/120\n",
            "409/409 [==============================] - 46s 99ms/step - loss: 2.1001 - dense_4_loss: 1.3006 - dense_1_loss: 1.3371 - dense_3_loss: 1.3280 - dense_4_accuracy: 0.5711 - dense_1_accuracy: 0.5550 - dense_3_accuracy: 0.5647 - val_loss: 2.2220 - val_dense_4_loss: 1.3760 - val_dense_1_loss: 1.4215 - val_dense_3_loss: 1.3984 - val_dense_4_accuracy: 0.5593 - val_dense_1_accuracy: 0.5657 - val_dense_3_accuracy: 0.5536\n",
            "Epoch 26/120\n",
            "409/409 [==============================] - 47s 99ms/step - loss: 2.0848 - dense_4_loss: 1.2897 - dense_1_loss: 1.3298 - dense_3_loss: 1.3204 - dense_4_accuracy: 0.5770 - dense_1_accuracy: 0.5663 - dense_3_accuracy: 0.5721 - val_loss: 2.2114 - val_dense_4_loss: 1.3783 - val_dense_1_loss: 1.3827 - val_dense_3_loss: 1.3943 - val_dense_4_accuracy: 0.5643 - val_dense_1_accuracy: 0.5836 - val_dense_3_accuracy: 0.5786\n",
            "Epoch 27/120\n",
            "409/409 [==============================] - 47s 99ms/step - loss: 2.0142 - dense_4_loss: 1.2431 - dense_1_loss: 1.2994 - dense_3_loss: 1.2706 - dense_4_accuracy: 0.5902 - dense_1_accuracy: 0.5726 - dense_3_accuracy: 0.5868 - val_loss: 2.2204 - val_dense_4_loss: 1.3975 - val_dense_1_loss: 1.3516 - val_dense_3_loss: 1.3912 - val_dense_4_accuracy: 0.5486 - val_dense_1_accuracy: 0.5850 - val_dense_3_accuracy: 0.5471\n",
            "Epoch 28/120\n",
            "409/409 [==============================] - 47s 100ms/step - loss: 1.9834 - dense_4_loss: 1.2246 - dense_1_loss: 1.2838 - dense_3_loss: 1.2455 - dense_4_accuracy: 0.5998 - dense_1_accuracy: 0.5778 - dense_3_accuracy: 0.5925 - val_loss: 2.1729 - val_dense_4_loss: 1.3361 - val_dense_1_loss: 1.4107 - val_dense_3_loss: 1.3785 - val_dense_4_accuracy: 0.5779 - val_dense_1_accuracy: 0.5636 - val_dense_3_accuracy: 0.5771\n",
            "Epoch 29/120\n",
            "409/409 [==============================] - 47s 100ms/step - loss: 1.9732 - dense_4_loss: 1.2189 - dense_1_loss: 1.2604 - dense_3_loss: 1.2537 - dense_4_accuracy: 0.5998 - dense_1_accuracy: 0.5861 - dense_3_accuracy: 0.5969 - val_loss: 2.1511 - val_dense_4_loss: 1.3475 - val_dense_1_loss: 1.3354 - val_dense_3_loss: 1.3432 - val_dense_4_accuracy: 0.5750 - val_dense_1_accuracy: 0.5971 - val_dense_3_accuracy: 0.5793\n",
            "Epoch 30/120\n",
            "409/409 [==============================] - 47s 100ms/step - loss: 1.9486 - dense_4_loss: 1.1973 - dense_1_loss: 1.2677 - dense_3_loss: 1.2367 - dense_4_accuracy: 0.6080 - dense_1_accuracy: 0.5850 - dense_3_accuracy: 0.6002 - val_loss: 2.0612 - val_dense_4_loss: 1.2837 - val_dense_1_loss: 1.3147 - val_dense_3_loss: 1.2771 - val_dense_4_accuracy: 0.5850 - val_dense_1_accuracy: 0.5986 - val_dense_3_accuracy: 0.5914\n",
            "Epoch 31/120\n",
            "409/409 [==============================] - 48s 100ms/step - loss: 1.9198 - dense_4_loss: 1.1820 - dense_1_loss: 1.2332 - dense_3_loss: 1.2262 - dense_4_accuracy: 0.6087 - dense_1_accuracy: 0.5979 - dense_3_accuracy: 0.6000 - val_loss: 2.1099 - val_dense_4_loss: 1.3032 - val_dense_1_loss: 1.3716 - val_dense_3_loss: 1.3173 - val_dense_4_accuracy: 0.5864 - val_dense_1_accuracy: 0.5643 - val_dense_3_accuracy: 0.5886\n",
            "Epoch 32/120\n",
            "409/409 [==============================] - 47s 100ms/step - loss: 1.8832 - dense_4_loss: 1.1599 - dense_1_loss: 1.2197 - dense_3_loss: 1.1914 - dense_4_accuracy: 0.6179 - dense_1_accuracy: 0.6024 - dense_3_accuracy: 0.6133 - val_loss: 2.1130 - val_dense_4_loss: 1.3101 - val_dense_1_loss: 1.3281 - val_dense_3_loss: 1.3481 - val_dense_4_accuracy: 0.5864 - val_dense_1_accuracy: 0.5907 - val_dense_3_accuracy: 0.5850\n",
            "Epoch 33/120\n",
            "409/409 [==============================] - 48s 100ms/step - loss: 1.8402 - dense_4_loss: 1.1308 - dense_1_loss: 1.1884 - dense_3_loss: 1.1762 - dense_4_accuracy: 0.6262 - dense_1_accuracy: 0.6084 - dense_3_accuracy: 0.6161 - val_loss: 2.0203 - val_dense_4_loss: 1.2513 - val_dense_1_loss: 1.2934 - val_dense_3_loss: 1.2701 - val_dense_4_accuracy: 0.6100 - val_dense_1_accuracy: 0.6114 - val_dense_3_accuracy: 0.5971\n",
            "Epoch 34/120\n",
            "409/409 [==============================] - 48s 100ms/step - loss: 1.8507 - dense_4_loss: 1.1337 - dense_1_loss: 1.2105 - dense_3_loss: 1.1792 - dense_4_accuracy: 0.6256 - dense_1_accuracy: 0.5994 - dense_3_accuracy: 0.6162 - val_loss: 2.1450 - val_dense_4_loss: 1.3518 - val_dense_1_loss: 1.3175 - val_dense_3_loss: 1.3264 - val_dense_4_accuracy: 0.5764 - val_dense_1_accuracy: 0.5929 - val_dense_3_accuracy: 0.5936\n",
            "Epoch 35/120\n",
            "409/409 [==============================] - 48s 100ms/step - loss: 1.8046 - dense_4_loss: 1.1086 - dense_1_loss: 1.1799 - dense_3_loss: 1.1399 - dense_4_accuracy: 0.6379 - dense_1_accuracy: 0.6158 - dense_3_accuracy: 0.6361 - val_loss: 2.1350 - val_dense_4_loss: 1.3060 - val_dense_1_loss: 1.3726 - val_dense_3_loss: 1.3909 - val_dense_4_accuracy: 0.5943 - val_dense_1_accuracy: 0.5907 - val_dense_3_accuracy: 0.5750\n",
            "Epoch 36/120\n",
            "409/409 [==============================] - 48s 100ms/step - loss: 1.7999 - dense_4_loss: 1.0997 - dense_1_loss: 1.1837 - dense_3_loss: 1.1505 - dense_4_accuracy: 0.6366 - dense_1_accuracy: 0.6179 - dense_3_accuracy: 0.6246 - val_loss: 2.0640 - val_dense_4_loss: 1.2854 - val_dense_1_loss: 1.2807 - val_dense_3_loss: 1.3146 - val_dense_4_accuracy: 0.5964 - val_dense_1_accuracy: 0.5950 - val_dense_3_accuracy: 0.5921\n",
            "Epoch 37/120\n",
            "409/409 [==============================] - 48s 101ms/step - loss: 1.7633 - dense_4_loss: 1.0773 - dense_1_loss: 1.1548 - dense_3_loss: 1.1318 - dense_4_accuracy: 0.6497 - dense_1_accuracy: 0.6259 - dense_3_accuracy: 0.6279 - val_loss: 1.9958 - val_dense_4_loss: 1.2309 - val_dense_1_loss: 1.3084 - val_dense_3_loss: 1.2412 - val_dense_4_accuracy: 0.6214 - val_dense_1_accuracy: 0.6079 - val_dense_3_accuracy: 0.6150\n",
            "Epoch 38/120\n",
            "409/409 [==============================] - 48s 100ms/step - loss: 1.7469 - dense_4_loss: 1.0692 - dense_1_loss: 1.1453 - dense_3_loss: 1.1137 - dense_4_accuracy: 0.6490 - dense_1_accuracy: 0.6243 - dense_3_accuracy: 0.6265 - val_loss: 2.1410 - val_dense_4_loss: 1.3139 - val_dense_1_loss: 1.3659 - val_dense_3_loss: 1.3913 - val_dense_4_accuracy: 0.6043 - val_dense_1_accuracy: 0.5907 - val_dense_3_accuracy: 0.5850\n",
            "Epoch 39/120\n"
          ]
        },
        {
          "name": "stdout",
          "output_type": "stream",
          "text": [
            "409/409 [==============================] - 48s 101ms/step - loss: 1.6972 - dense_4_loss: 1.0335 - dense_1_loss: 1.1298 - dense_3_loss: 1.0826 - dense_4_accuracy: 0.6595 - dense_1_accuracy: 0.6352 - dense_3_accuracy: 0.6523 - val_loss: 2.0216 - val_dense_4_loss: 1.2709 - val_dense_1_loss: 1.2461 - val_dense_3_loss: 1.2562 - val_dense_4_accuracy: 0.6100 - val_dense_1_accuracy: 0.6071 - val_dense_3_accuracy: 0.6179\n",
            "Epoch 40/120\n",
            "409/409 [==============================] - 49s 101ms/step - loss: 1.6534 - dense_4_loss: 1.0052 - dense_1_loss: 1.0973 - dense_3_loss: 1.0636 - dense_4_accuracy: 0.6699 - dense_1_accuracy: 0.6379 - dense_3_accuracy: 0.6546 - val_loss: 2.0466 - val_dense_4_loss: 1.2663 - val_dense_1_loss: 1.3257 - val_dense_3_loss: 1.2754 - val_dense_4_accuracy: 0.6071 - val_dense_1_accuracy: 0.5921 - val_dense_3_accuracy: 0.6064\n",
            "Epoch 41/120\n",
            "409/409 [==============================] - 49s 101ms/step - loss: 1.6481 - dense_4_loss: 1.0039 - dense_1_loss: 1.0963 - dense_3_loss: 1.0510 - dense_4_accuracy: 0.6681 - dense_1_accuracy: 0.6516 - dense_3_accuracy: 0.6592 - val_loss: 2.1391 - val_dense_4_loss: 1.3400 - val_dense_1_loss: 1.3566 - val_dense_3_loss: 1.3071 - val_dense_4_accuracy: 0.6086 - val_dense_1_accuracy: 0.6014 - val_dense_3_accuracy: 0.6164\n",
            "Epoch 42/120\n",
            "409/409 [==============================] - 49s 101ms/step - loss: 1.6515 - dense_4_loss: 1.0023 - dense_1_loss: 1.1016 - dense_3_loss: 1.0624 - dense_4_accuracy: 0.6751 - dense_1_accuracy: 0.6409 - dense_3_accuracy: 0.6611 - val_loss: 2.1423 - val_dense_4_loss: 1.3590 - val_dense_1_loss: 1.3100 - val_dense_3_loss: 1.3011 - val_dense_4_accuracy: 0.6121 - val_dense_1_accuracy: 0.6029 - val_dense_3_accuracy: 0.6300\n",
            "Epoch 43/120\n",
            "409/409 [==============================] - 49s 101ms/step - loss: 1.6205 - dense_4_loss: 0.9844 - dense_1_loss: 1.0903 - dense_3_loss: 1.0299 - dense_4_accuracy: 0.6771 - dense_1_accuracy: 0.6433 - dense_3_accuracy: 0.6618 - val_loss: 2.0671 - val_dense_4_loss: 1.2864 - val_dense_1_loss: 1.3078 - val_dense_3_loss: 1.2943 - val_dense_4_accuracy: 0.6043 - val_dense_1_accuracy: 0.6071 - val_dense_3_accuracy: 0.6079\n",
            "Epoch 44/120\n",
            "409/409 [==============================] - 49s 101ms/step - loss: 1.6106 - dense_4_loss: 0.9804 - dense_1_loss: 1.0629 - dense_3_loss: 1.0378 - dense_4_accuracy: 0.6846 - dense_1_accuracy: 0.6568 - dense_3_accuracy: 0.6588 - val_loss: 1.8970 - val_dense_4_loss: 1.1575 - val_dense_1_loss: 1.2765 - val_dense_3_loss: 1.1885 - val_dense_4_accuracy: 0.6371 - val_dense_1_accuracy: 0.6107 - val_dense_3_accuracy: 0.6371\n",
            "Epoch 45/120\n",
            "409/409 [==============================] - 49s 101ms/step - loss: 1.6068 - dense_4_loss: 0.9766 - dense_1_loss: 1.0749 - dense_3_loss: 1.0258 - dense_4_accuracy: 0.6799 - dense_1_accuracy: 0.6496 - dense_3_accuracy: 0.6692 - val_loss: 2.1099 - val_dense_4_loss: 1.3085 - val_dense_1_loss: 1.3134 - val_dense_3_loss: 1.3581 - val_dense_4_accuracy: 0.6093 - val_dense_1_accuracy: 0.5979 - val_dense_3_accuracy: 0.6050\n",
            "Epoch 46/120\n",
            "409/409 [==============================] - 49s 101ms/step - loss: 1.5581 - dense_4_loss: 0.9506 - dense_1_loss: 1.0311 - dense_3_loss: 0.9940 - dense_4_accuracy: 0.6868 - dense_1_accuracy: 0.6614 - dense_3_accuracy: 0.6829 - val_loss: 2.0671 - val_dense_4_loss: 1.2926 - val_dense_1_loss: 1.2833 - val_dense_3_loss: 1.2982 - val_dense_4_accuracy: 0.6257 - val_dense_1_accuracy: 0.6243 - val_dense_3_accuracy: 0.6257\n",
            "Epoch 47/120\n",
            "409/409 [==============================] - 49s 102ms/step - loss: 1.4945 - dense_4_loss: 0.8975 - dense_1_loss: 1.0200 - dense_3_loss: 0.9702 - dense_4_accuracy: 0.6955 - dense_1_accuracy: 0.6730 - dense_3_accuracy: 0.6929 - val_loss: 2.0952 - val_dense_4_loss: 1.2856 - val_dense_1_loss: 1.4129 - val_dense_3_loss: 1.2859 - val_dense_4_accuracy: 0.6250 - val_dense_1_accuracy: 0.6164 - val_dense_3_accuracy: 0.6186\n",
            "Epoch 48/120\n",
            "409/409 [==============================] - 49s 101ms/step - loss: 1.5014 - dense_4_loss: 0.9042 - dense_1_loss: 1.0290 - dense_3_loss: 0.9620 - dense_4_accuracy: 0.7018 - dense_1_accuracy: 0.6707 - dense_3_accuracy: 0.6834 - val_loss: 2.1710 - val_dense_4_loss: 1.3480 - val_dense_1_loss: 1.4111 - val_dense_3_loss: 1.3324 - val_dense_4_accuracy: 0.6064 - val_dense_1_accuracy: 0.5986 - val_dense_3_accuracy: 0.6229\n",
            "Epoch 49/120\n",
            "409/409 [==============================] - 50s 102ms/step - loss: 1.4557 - dense_4_loss: 0.8768 - dense_1_loss: 0.9990 - dense_3_loss: 0.9307 - dense_4_accuracy: 0.7123 - dense_1_accuracy: 0.6724 - dense_3_accuracy: 0.6930 - val_loss: 2.0297 - val_dense_4_loss: 1.2682 - val_dense_1_loss: 1.2932 - val_dense_3_loss: 1.2452 - val_dense_4_accuracy: 0.6293 - val_dense_1_accuracy: 0.6236 - val_dense_3_accuracy: 0.6271\n",
            "Epoch 50/120\n",
            "409/409 [==============================] - 50s 102ms/step - loss: 1.4647 - dense_4_loss: 0.8886 - dense_1_loss: 0.9782 - dense_3_loss: 0.9420 - dense_4_accuracy: 0.7080 - dense_1_accuracy: 0.6783 - dense_3_accuracy: 0.6961 - val_loss: 1.9036 - val_dense_4_loss: 1.1705 - val_dense_1_loss: 1.2464 - val_dense_3_loss: 1.1972 - val_dense_4_accuracy: 0.6286 - val_dense_1_accuracy: 0.6114 - val_dense_3_accuracy: 0.6229\n",
            "Epoch 51/120\n",
            "409/409 [==============================] - 50s 102ms/step - loss: 1.4683 - dense_4_loss: 0.8788 - dense_1_loss: 1.0084 - dense_3_loss: 0.9568 - dense_4_accuracy: 0.7094 - dense_1_accuracy: 0.6725 - dense_3_accuracy: 0.6933 - val_loss: 2.1249 - val_dense_4_loss: 1.3049 - val_dense_1_loss: 1.4293 - val_dense_3_loss: 1.3041 - val_dense_4_accuracy: 0.6279 - val_dense_1_accuracy: 0.6164 - val_dense_3_accuracy: 0.6214\n",
            "Epoch 52/120\n",
            "409/409 [==============================] - 50s 102ms/step - loss: 1.4460 - dense_4_loss: 0.8662 - dense_1_loss: 0.9894 - dense_3_loss: 0.9433 - dense_4_accuracy: 0.7168 - dense_1_accuracy: 0.6764 - dense_3_accuracy: 0.7010 - val_loss: 2.0324 - val_dense_4_loss: 1.2602 - val_dense_1_loss: 1.3027 - val_dense_3_loss: 1.2712 - val_dense_4_accuracy: 0.6279 - val_dense_1_accuracy: 0.6257 - val_dense_3_accuracy: 0.6357\n",
            "Epoch 53/120\n",
            "409/409 [==============================] - 50s 102ms/step - loss: 1.4208 - dense_4_loss: 0.8554 - dense_1_loss: 0.9677 - dense_3_loss: 0.9168 - dense_4_accuracy: 0.7138 - dense_1_accuracy: 0.6897 - dense_3_accuracy: 0.7077 - val_loss: 2.0898 - val_dense_4_loss: 1.3014 - val_dense_1_loss: 1.3290 - val_dense_3_loss: 1.2990 - val_dense_4_accuracy: 0.6179 - val_dense_1_accuracy: 0.6229 - val_dense_3_accuracy: 0.6171\n",
            "Epoch 54/120\n",
            "409/409 [==============================] - 50s 102ms/step - loss: 1.3554 - dense_4_loss: 0.8168 - dense_1_loss: 0.9282 - dense_3_loss: 0.8671 - dense_4_accuracy: 0.7288 - dense_1_accuracy: 0.6979 - dense_3_accuracy: 0.7180 - val_loss: 1.9974 - val_dense_4_loss: 1.2346 - val_dense_1_loss: 1.2755 - val_dense_3_loss: 1.2673 - val_dense_4_accuracy: 0.6364 - val_dense_1_accuracy: 0.6429 - val_dense_3_accuracy: 0.6371\n",
            "Epoch 55/120\n",
            "409/409 [==============================] - 50s 102ms/step - loss: 1.3548 - dense_4_loss: 0.8157 - dense_1_loss: 0.9204 - dense_3_loss: 0.8766 - dense_4_accuracy: 0.7330 - dense_1_accuracy: 0.6993 - dense_3_accuracy: 0.7177 - val_loss: 2.1233 - val_dense_4_loss: 1.3020 - val_dense_1_loss: 1.4027 - val_dense_3_loss: 1.3349 - val_dense_4_accuracy: 0.6329 - val_dense_1_accuracy: 0.6214 - val_dense_3_accuracy: 0.6364\n",
            "Epoch 56/120\n",
            "409/409 [==============================] - 50s 102ms/step - loss: 1.3615 - dense_4_loss: 0.8100 - dense_1_loss: 0.9571 - dense_3_loss: 0.8813 - dense_4_accuracy: 0.7307 - dense_1_accuracy: 0.6894 - dense_3_accuracy: 0.7154 - val_loss: 2.2120 - val_dense_4_loss: 1.3784 - val_dense_1_loss: 1.4320 - val_dense_3_loss: 1.3467 - val_dense_4_accuracy: 0.6157 - val_dense_1_accuracy: 0.6186 - val_dense_3_accuracy: 0.6200\n",
            "Epoch 57/120\n",
            "409/409 [==============================] - 50s 102ms/step - loss: 1.3327 - dense_4_loss: 0.7950 - dense_1_loss: 0.9270 - dense_3_loss: 0.8652 - dense_4_accuracy: 0.7377 - dense_1_accuracy: 0.7034 - dense_3_accuracy: 0.7215 - val_loss: 2.1921 - val_dense_4_loss: 1.3485 - val_dense_1_loss: 1.4527 - val_dense_3_loss: 1.3594 - val_dense_4_accuracy: 0.6257 - val_dense_1_accuracy: 0.6057 - val_dense_3_accuracy: 0.6257\n",
            "Epoch 58/120\n"
          ]
        },
        {
          "name": "stdout",
          "output_type": "stream",
          "text": [
            "409/409 [==============================] - 51s 102ms/step - loss: 1.3355 - dense_4_loss: 0.7960 - dense_1_loss: 0.9244 - dense_3_loss: 0.8740 - dense_4_accuracy: 0.7350 - dense_1_accuracy: 0.6952 - dense_3_accuracy: 0.7224 - val_loss: 2.1578 - val_dense_4_loss: 1.3372 - val_dense_1_loss: 1.3574 - val_dense_3_loss: 1.3782 - val_dense_4_accuracy: 0.6221 - val_dense_1_accuracy: 0.6321 - val_dense_3_accuracy: 0.6300\n",
            "Epoch 59/120\n",
            "409/409 [==============================] - 51s 102ms/step - loss: 1.3242 - dense_4_loss: 0.7908 - dense_1_loss: 0.9198 - dense_3_loss: 0.8581 - dense_4_accuracy: 0.7399 - dense_1_accuracy: 0.7068 - dense_3_accuracy: 0.7238 - val_loss: 2.1118 - val_dense_4_loss: 1.2933 - val_dense_1_loss: 1.4000 - val_dense_3_loss: 1.3284 - val_dense_4_accuracy: 0.6293 - val_dense_1_accuracy: 0.6229 - val_dense_3_accuracy: 0.6214\n",
            "Epoch 60/120\n",
            "409/409 [==============================] - 50s 103ms/step - loss: 1.2771 - dense_4_loss: 0.7573 - dense_1_loss: 0.8992 - dense_3_loss: 0.8332 - dense_4_accuracy: 0.7506 - dense_1_accuracy: 0.7111 - dense_3_accuracy: 0.7305 - val_loss: 2.0899 - val_dense_4_loss: 1.2849 - val_dense_1_loss: 1.3816 - val_dense_3_loss: 1.3018 - val_dense_4_accuracy: 0.6450 - val_dense_1_accuracy: 0.6350 - val_dense_3_accuracy: 0.6486\n",
            "Epoch 61/120\n",
            "409/409 [==============================] - 51s 102ms/step - loss: 1.2952 - dense_4_loss: 0.7744 - dense_1_loss: 0.8993 - dense_3_loss: 0.8369 - dense_4_accuracy: 0.7405 - dense_1_accuracy: 0.7057 - dense_3_accuracy: 0.7267 - val_loss: 2.1995 - val_dense_4_loss: 1.3531 - val_dense_1_loss: 1.4501 - val_dense_3_loss: 1.3711 - val_dense_4_accuracy: 0.6336 - val_dense_1_accuracy: 0.6150 - val_dense_3_accuracy: 0.6429\n",
            "Epoch 62/120\n",
            "409/409 [==============================] - 51s 102ms/step - loss: 1.2650 - dense_4_loss: 0.7449 - dense_1_loss: 0.9029 - dense_3_loss: 0.8307 - dense_4_accuracy: 0.7529 - dense_1_accuracy: 0.7070 - dense_3_accuracy: 0.7340 - val_loss: 2.0675 - val_dense_4_loss: 1.2954 - val_dense_1_loss: 1.3080 - val_dense_3_loss: 1.2656 - val_dense_4_accuracy: 0.6521 - val_dense_1_accuracy: 0.6386 - val_dense_3_accuracy: 0.6507\n",
            "Epoch 63/120\n",
            "409/409 [==============================] - 51s 102ms/step - loss: 1.2542 - dense_4_loss: 0.7343 - dense_1_loss: 0.8973 - dense_3_loss: 0.8357 - dense_4_accuracy: 0.7546 - dense_1_accuracy: 0.7172 - dense_3_accuracy: 0.7327 - val_loss: 2.3546 - val_dense_4_loss: 1.5151 - val_dense_1_loss: 1.4122 - val_dense_3_loss: 1.3864 - val_dense_4_accuracy: 0.6029 - val_dense_1_accuracy: 0.6079 - val_dense_3_accuracy: 0.6143\n",
            "Epoch 64/120\n",
            "409/409 [==============================] - 51s 103ms/step - loss: 1.2467 - dense_4_loss: 0.7414 - dense_1_loss: 0.8724 - dense_3_loss: 0.8119 - dense_4_accuracy: 0.7564 - dense_1_accuracy: 0.7120 - dense_3_accuracy: 0.7345 - val_loss: 2.1481 - val_dense_4_loss: 1.3124 - val_dense_1_loss: 1.4445 - val_dense_3_loss: 1.3413 - val_dense_4_accuracy: 0.6357 - val_dense_1_accuracy: 0.6457 - val_dense_3_accuracy: 0.6550\n",
            "Epoch 65/120\n",
            "409/409 [==============================] - 51s 102ms/step - loss: 1.2005 - dense_4_loss: 0.7099 - dense_1_loss: 0.8480 - dense_3_loss: 0.7874 - dense_4_accuracy: 0.7611 - dense_1_accuracy: 0.7287 - dense_3_accuracy: 0.7435 - val_loss: 2.1065 - val_dense_4_loss: 1.2964 - val_dense_1_loss: 1.3616 - val_dense_3_loss: 1.3385 - val_dense_4_accuracy: 0.6486 - val_dense_1_accuracy: 0.6436 - val_dense_3_accuracy: 0.6386\n",
            "Epoch 66/120\n",
            "409/409 [==============================] - 51s 103ms/step - loss: 1.2404 - dense_4_loss: 0.7349 - dense_1_loss: 0.8705 - dense_3_loss: 0.8146 - dense_4_accuracy: 0.7474 - dense_1_accuracy: 0.7152 - dense_3_accuracy: 0.7434 - val_loss: 2.1386 - val_dense_4_loss: 1.3262 - val_dense_1_loss: 1.3344 - val_dense_3_loss: 1.3737 - val_dense_4_accuracy: 0.6536 - val_dense_1_accuracy: 0.6371 - val_dense_3_accuracy: 0.6471\n",
            "Epoch 67/120\n",
            "409/409 [==============================] - 51s 103ms/step - loss: 1.1975 - dense_4_loss: 0.7010 - dense_1_loss: 0.8738 - dense_3_loss: 0.7812 - dense_4_accuracy: 0.7622 - dense_1_accuracy: 0.7256 - dense_3_accuracy: 0.7513 - val_loss: 2.1325 - val_dense_4_loss: 1.2870 - val_dense_1_loss: 1.4048 - val_dense_3_loss: 1.4135 - val_dense_4_accuracy: 0.6414 - val_dense_1_accuracy: 0.6386 - val_dense_3_accuracy: 0.6400\n",
            "Epoch 68/120\n",
            "409/409 [==============================] - 51s 103ms/step - loss: 1.2163 - dense_4_loss: 0.7197 - dense_1_loss: 0.8558 - dense_3_loss: 0.7994 - dense_4_accuracy: 0.7651 - dense_1_accuracy: 0.7264 - dense_3_accuracy: 0.7397 - val_loss: 2.1554 - val_dense_4_loss: 1.3353 - val_dense_1_loss: 1.4375 - val_dense_3_loss: 1.2961 - val_dense_4_accuracy: 0.6343 - val_dense_1_accuracy: 0.6471 - val_dense_3_accuracy: 0.6386\n",
            "Epoch 69/120\n",
            "409/409 [==============================] - 51s 103ms/step - loss: 1.1395 - dense_4_loss: 0.6658 - dense_1_loss: 0.8221 - dense_3_loss: 0.7567 - dense_4_accuracy: 0.7790 - dense_1_accuracy: 0.7331 - dense_3_accuracy: 0.7541 - val_loss: 2.1493 - val_dense_4_loss: 1.3254 - val_dense_1_loss: 1.4208 - val_dense_3_loss: 1.3257 - val_dense_4_accuracy: 0.6414 - val_dense_1_accuracy: 0.6493 - val_dense_3_accuracy: 0.6486\n",
            "Epoch 70/120\n",
            "409/409 [==============================] - 51s 103ms/step - loss: 1.1678 - dense_4_loss: 0.6891 - dense_1_loss: 0.8170 - dense_3_loss: 0.7787 - dense_4_accuracy: 0.7665 - dense_1_accuracy: 0.7340 - dense_3_accuracy: 0.7454 - val_loss: 2.2403 - val_dense_4_loss: 1.3890 - val_dense_1_loss: 1.4845 - val_dense_3_loss: 1.3530 - val_dense_4_accuracy: 0.6329 - val_dense_1_accuracy: 0.6250 - val_dense_3_accuracy: 0.6286\n",
            "Epoch 71/120\n",
            "409/409 [==============================] - 51s 103ms/step - loss: 1.1145 - dense_4_loss: 0.6490 - dense_1_loss: 0.8074 - dense_3_loss: 0.7444 - dense_4_accuracy: 0.7859 - dense_1_accuracy: 0.7394 - dense_3_accuracy: 0.7610 - val_loss: 2.1619 - val_dense_4_loss: 1.3550 - val_dense_1_loss: 1.4102 - val_dense_3_loss: 1.2794 - val_dense_4_accuracy: 0.6429 - val_dense_1_accuracy: 0.6471 - val_dense_3_accuracy: 0.6550\n",
            "Epoch 72/120\n",
            "409/409 [==============================] - 51s 103ms/step - loss: 1.1666 - dense_4_loss: 0.6860 - dense_1_loss: 0.8334 - dense_3_loss: 0.7687 - dense_4_accuracy: 0.7726 - dense_1_accuracy: 0.7295 - dense_3_accuracy: 0.7472 - val_loss: 2.1051 - val_dense_4_loss: 1.2976 - val_dense_1_loss: 1.3822 - val_dense_3_loss: 1.3095 - val_dense_4_accuracy: 0.6507 - val_dense_1_accuracy: 0.6471 - val_dense_3_accuracy: 0.6414\n",
            "Epoch 73/120\n",
            "409/409 [==============================] - 51s 103ms/step - loss: 1.1291 - dense_4_loss: 0.6579 - dense_1_loss: 0.8213 - dense_3_loss: 0.7493 - dense_4_accuracy: 0.7809 - dense_1_accuracy: 0.7356 - dense_3_accuracy: 0.7613 - val_loss: 2.3170 - val_dense_4_loss: 1.4559 - val_dense_1_loss: 1.4459 - val_dense_3_loss: 1.4247 - val_dense_4_accuracy: 0.6343 - val_dense_1_accuracy: 0.6364 - val_dense_3_accuracy: 0.6357\n",
            "Epoch 74/120\n",
            "409/409 [==============================] - 51s 103ms/step - loss: 1.1399 - dense_4_loss: 0.6641 - dense_1_loss: 0.8337 - dense_3_loss: 0.7523 - dense_4_accuracy: 0.7813 - dense_1_accuracy: 0.7337 - dense_3_accuracy: 0.7546 - val_loss: 2.1387 - val_dense_4_loss: 1.3373 - val_dense_1_loss: 1.2964 - val_dense_3_loss: 1.3751 - val_dense_4_accuracy: 0.6664 - val_dense_1_accuracy: 0.6486 - val_dense_3_accuracy: 0.6586\n",
            "Epoch 75/120\n",
            "409/409 [==============================] - 51s 103ms/step - loss: 1.1222 - dense_4_loss: 0.6535 - dense_1_loss: 0.8181 - dense_3_loss: 0.7444 - dense_4_accuracy: 0.7826 - dense_1_accuracy: 0.7344 - dense_3_accuracy: 0.7631 - val_loss: 2.1845 - val_dense_4_loss: 1.3458 - val_dense_1_loss: 1.4029 - val_dense_3_loss: 1.3929 - val_dense_4_accuracy: 0.6457 - val_dense_1_accuracy: 0.6364 - val_dense_3_accuracy: 0.6414\n",
            "Epoch 76/120\n",
            "409/409 [==============================] - 51s 103ms/step - loss: 1.0738 - dense_4_loss: 0.6231 - dense_1_loss: 0.7912 - dense_3_loss: 0.7112 - dense_4_accuracy: 0.7896 - dense_1_accuracy: 0.7467 - dense_3_accuracy: 0.7728 - val_loss: 2.1229 - val_dense_4_loss: 1.2881 - val_dense_1_loss: 1.3407 - val_dense_3_loss: 1.4422 - val_dense_4_accuracy: 0.6629 - val_dense_1_accuracy: 0.6407 - val_dense_3_accuracy: 0.6400\n",
            "Epoch 77/120\n"
          ]
        },
        {
          "name": "stdout",
          "output_type": "stream",
          "text": [
            "409/409 [==============================] - 52s 103ms/step - loss: 1.1072 - dense_4_loss: 0.6416 - dense_1_loss: 0.7963 - dense_3_loss: 0.7557 - dense_4_accuracy: 0.7890 - dense_1_accuracy: 0.7386 - dense_3_accuracy: 0.7573 - val_loss: 2.2919 - val_dense_4_loss: 1.3905 - val_dense_1_loss: 1.4710 - val_dense_3_loss: 1.5338 - val_dense_4_accuracy: 0.6493 - val_dense_1_accuracy: 0.6450 - val_dense_3_accuracy: 0.6521\n",
            "Epoch 78/120\n",
            "409/409 [==============================] - 51s 103ms/step - loss: 1.0630 - dense_4_loss: 0.6130 - dense_1_loss: 0.7845 - dense_3_loss: 0.7156 - dense_4_accuracy: 0.8006 - dense_1_accuracy: 0.7538 - dense_3_accuracy: 0.7720 - val_loss: 2.4928 - val_dense_4_loss: 1.5436 - val_dense_1_loss: 1.6614 - val_dense_3_loss: 1.5025 - val_dense_4_accuracy: 0.6079 - val_dense_1_accuracy: 0.6093 - val_dense_3_accuracy: 0.6107\n",
            "Epoch 79/120\n",
            "409/409 [==============================] - 52s 103ms/step - loss: 1.0325 - dense_4_loss: 0.5957 - dense_1_loss: 0.7630 - dense_3_loss: 0.6931 - dense_4_accuracy: 0.8044 - dense_1_accuracy: 0.7538 - dense_3_accuracy: 0.7769 - val_loss: 2.4411 - val_dense_4_loss: 1.5137 - val_dense_1_loss: 1.5836 - val_dense_3_loss: 1.5076 - val_dense_4_accuracy: 0.6257 - val_dense_1_accuracy: 0.6400 - val_dense_3_accuracy: 0.6271\n",
            "Epoch 80/120\n",
            "409/409 [==============================] - 51s 103ms/step - loss: 1.0528 - dense_4_loss: 0.6057 - dense_1_loss: 0.7831 - dense_3_loss: 0.7070 - dense_4_accuracy: 0.7991 - dense_1_accuracy: 0.7448 - dense_3_accuracy: 0.7732 - val_loss: 2.3898 - val_dense_4_loss: 1.4836 - val_dense_1_loss: 1.5564 - val_dense_3_loss: 1.4643 - val_dense_4_accuracy: 0.6407 - val_dense_1_accuracy: 0.6421 - val_dense_3_accuracy: 0.6500\n",
            "Epoch 81/120\n",
            "409/409 [==============================] - 52s 103ms/step - loss: 1.0327 - dense_4_loss: 0.5949 - dense_1_loss: 0.7754 - dense_3_loss: 0.6841 - dense_4_accuracy: 0.8067 - dense_1_accuracy: 0.7464 - dense_3_accuracy: 0.7769 - val_loss: 2.3507 - val_dense_4_loss: 1.4697 - val_dense_1_loss: 1.4458 - val_dense_3_loss: 1.4909 - val_dense_4_accuracy: 0.6500 - val_dense_1_accuracy: 0.6429 - val_dense_3_accuracy: 0.6593\n",
            "Epoch 82/120\n",
            "409/409 [==============================] - 51s 103ms/step - loss: 1.0203 - dense_4_loss: 0.5830 - dense_1_loss: 0.7793 - dense_3_loss: 0.6784 - dense_4_accuracy: 0.8110 - dense_1_accuracy: 0.7521 - dense_3_accuracy: 0.7849 - val_loss: 2.2980 - val_dense_4_loss: 1.4404 - val_dense_1_loss: 1.4067 - val_dense_3_loss: 1.4523 - val_dense_4_accuracy: 0.6443 - val_dense_1_accuracy: 0.6500 - val_dense_3_accuracy: 0.6557\n",
            "Epoch 83/120\n",
            "409/409 [==============================] - 51s 103ms/step - loss: 1.0327 - dense_4_loss: 0.5979 - dense_1_loss: 0.7613 - dense_3_loss: 0.6879 - dense_4_accuracy: 0.8037 - dense_1_accuracy: 0.7564 - dense_3_accuracy: 0.7766 - val_loss: 2.5916 - val_dense_4_loss: 1.6038 - val_dense_1_loss: 1.6781 - val_dense_3_loss: 1.6144 - val_dense_4_accuracy: 0.6379 - val_dense_1_accuracy: 0.6386 - val_dense_3_accuracy: 0.6386\n",
            "Epoch 84/120\n",
            "409/409 [==============================] - 52s 104ms/step - loss: 1.0310 - dense_4_loss: 0.5922 - dense_1_loss: 0.7687 - dense_3_loss: 0.6940 - dense_4_accuracy: 0.8054 - dense_1_accuracy: 0.7481 - dense_3_accuracy: 0.7777 - val_loss: 2.4304 - val_dense_4_loss: 1.4858 - val_dense_1_loss: 1.5547 - val_dense_3_loss: 1.5939 - val_dense_4_accuracy: 0.6521 - val_dense_1_accuracy: 0.6450 - val_dense_3_accuracy: 0.6471\n",
            "Epoch 85/120\n",
            "409/409 [==============================] - 52s 103ms/step - loss: 0.9710 - dense_4_loss: 0.5546 - dense_1_loss: 0.7467 - dense_3_loss: 0.6416 - dense_4_accuracy: 0.8168 - dense_1_accuracy: 0.7650 - dense_3_accuracy: 0.7923 - val_loss: 2.5318 - val_dense_4_loss: 1.5578 - val_dense_1_loss: 1.6504 - val_dense_3_loss: 1.5962 - val_dense_4_accuracy: 0.6457 - val_dense_1_accuracy: 0.6543 - val_dense_3_accuracy: 0.6607\n",
            "Epoch 86/120\n",
            "409/409 [==============================] - 52s 103ms/step - loss: 1.0172 - dense_4_loss: 0.5813 - dense_1_loss: 0.7598 - dense_3_loss: 0.6933 - dense_4_accuracy: 0.8109 - dense_1_accuracy: 0.7553 - dense_3_accuracy: 0.7731 - val_loss: 2.2343 - val_dense_4_loss: 1.3897 - val_dense_1_loss: 1.4463 - val_dense_3_loss: 1.3688 - val_dense_4_accuracy: 0.6514 - val_dense_1_accuracy: 0.6464 - val_dense_3_accuracy: 0.6529\n",
            "Epoch 87/120\n",
            "409/409 [==============================] - 51s 103ms/step - loss: 1.0041 - dense_4_loss: 0.5753 - dense_1_loss: 0.7481 - dense_3_loss: 0.6812 - dense_4_accuracy: 0.8139 - dense_1_accuracy: 0.7578 - dense_3_accuracy: 0.7827 - val_loss: 2.3697 - val_dense_4_loss: 1.4955 - val_dense_1_loss: 1.4536 - val_dense_3_loss: 1.4605 - val_dense_4_accuracy: 0.6486 - val_dense_1_accuracy: 0.6429 - val_dense_3_accuracy: 0.6536\n",
            "Epoch 88/120\n",
            "409/409 [==============================] - 52s 103ms/step - loss: 1.0177 - dense_4_loss: 0.5822 - dense_1_loss: 0.7733 - dense_3_loss: 0.6784 - dense_4_accuracy: 0.8064 - dense_1_accuracy: 0.7555 - dense_3_accuracy: 0.7871 - val_loss: 2.3559 - val_dense_4_loss: 1.4578 - val_dense_1_loss: 1.5675 - val_dense_3_loss: 1.4262 - val_dense_4_accuracy: 0.6571 - val_dense_1_accuracy: 0.6443 - val_dense_3_accuracy: 0.6514\n",
            "Epoch 89/120\n",
            "409/409 [==============================] - 52s 103ms/step - loss: 0.9402 - dense_4_loss: 0.5319 - dense_1_loss: 0.7251 - dense_3_loss: 0.6359 - dense_4_accuracy: 0.8188 - dense_1_accuracy: 0.7648 - dense_3_accuracy: 0.7953 - val_loss: 2.3662 - val_dense_4_loss: 1.4383 - val_dense_1_loss: 1.5311 - val_dense_3_loss: 1.5618 - val_dense_4_accuracy: 0.6400 - val_dense_1_accuracy: 0.6500 - val_dense_3_accuracy: 0.6471\n",
            "Epoch 90/120\n",
            "409/409 [==============================] - 52s 103ms/step - loss: 0.9874 - dense_4_loss: 0.5592 - dense_1_loss: 0.7425 - dense_3_loss: 0.6849 - dense_4_accuracy: 0.8182 - dense_1_accuracy: 0.7602 - dense_3_accuracy: 0.7868 - val_loss: 2.4482 - val_dense_4_loss: 1.4974 - val_dense_1_loss: 1.5148 - val_dense_3_loss: 1.6547 - val_dense_4_accuracy: 0.6450 - val_dense_1_accuracy: 0.6329 - val_dense_3_accuracy: 0.6400\n",
            "Epoch 91/120\n",
            "409/409 [==============================] - 52s 104ms/step - loss: 0.9827 - dense_4_loss: 0.5625 - dense_1_loss: 0.7564 - dense_3_loss: 0.6443 - dense_4_accuracy: 0.8159 - dense_1_accuracy: 0.7636 - dense_3_accuracy: 0.7920 - val_loss: 2.3346 - val_dense_4_loss: 1.4046 - val_dense_1_loss: 1.5558 - val_dense_3_loss: 1.5442 - val_dense_4_accuracy: 0.6614 - val_dense_1_accuracy: 0.6486 - val_dense_3_accuracy: 0.6457\n",
            "Epoch 92/120\n",
            "409/409 [==============================] - 52s 104ms/step - loss: 0.9699 - dense_4_loss: 0.5546 - dense_1_loss: 0.7265 - dense_3_loss: 0.6580 - dense_4_accuracy: 0.8176 - dense_1_accuracy: 0.7660 - dense_3_accuracy: 0.7867 - val_loss: 2.4085 - val_dense_4_loss: 1.4554 - val_dense_1_loss: 1.6785 - val_dense_3_loss: 1.4984 - val_dense_4_accuracy: 0.6429 - val_dense_1_accuracy: 0.6493 - val_dense_3_accuracy: 0.6557\n",
            "Epoch 93/120\n",
            "409/409 [==============================] - 52s 104ms/step - loss: 0.9207 - dense_4_loss: 0.5179 - dense_1_loss: 0.7167 - dense_3_loss: 0.6258 - dense_4_accuracy: 0.8249 - dense_1_accuracy: 0.7680 - dense_3_accuracy: 0.8017 - val_loss: 2.5243 - val_dense_4_loss: 1.5618 - val_dense_1_loss: 1.5845 - val_dense_3_loss: 1.6238 - val_dense_4_accuracy: 0.6600 - val_dense_1_accuracy: 0.6621 - val_dense_3_accuracy: 0.6629\n",
            "Epoch 94/120\n",
            "409/409 [==============================] - 52s 104ms/step - loss: 0.9244 - dense_4_loss: 0.5166 - dense_1_loss: 0.7237 - dense_3_loss: 0.6355 - dense_4_accuracy: 0.8286 - dense_1_accuracy: 0.7671 - dense_3_accuracy: 0.8009 - val_loss: 2.2592 - val_dense_4_loss: 1.3805 - val_dense_1_loss: 1.5067 - val_dense_3_loss: 1.4223 - val_dense_4_accuracy: 0.6571 - val_dense_1_accuracy: 0.6593 - val_dense_3_accuracy: 0.6714\n"
          ]
        }
      ],
      "source": [
        "early_stop = tf.keras.callbacks.EarlyStopping(monitor='val_dense_4_accuracy',min_delta = 0.05, mode = \"max\" ,patience=15, restore_best_weights=True)\n",
        "callbacks = [early_stop]\n",
        "history = model.fit(ds_train, validation_data=ds_val, epochs=120, callbacks = callbacks)\n"
      ]
    },
    {
      "cell_type": "code",
      "execution_count": null,
      "metadata": {
        "id": "Yf-C8R1VHS8P",
        "outputId": "5b5b8e00-3885-4f73-f499-040189937b4f"
      },
      "outputs": [
        {
          "data": {
            "text/plain": [
              "<matplotlib.legend.Legend at 0x2d83d74ae20>"
            ]
          },
          "execution_count": 18,
          "metadata": {},
          "output_type": "execute_result"
        },
        {
          "data": {
            "image/png": "[encoded data removed]",
            "text/plain": [
              "<Figure size 1080x1080 with 2 Axes>"
            ]
          },
          "metadata": {
            "needs_background": "light"
          },
          "output_type": "display_data"
        }
      ],
      "source": [
        "fig, axs = plt.subplots(2, 1, figsize=(15,15))\n",
        "\n",
        "axs[0].plot(history.history['loss'])\n",
        "axs[0].plot(history.history['val_loss'])\n",
        "axs[0].title.set_text('Training Loss vs Validation Loss')\n",
        "axs[0].set_xlabel('Epochs')\n",
        "axs[0].set_ylabel('Loss')\n",
        "axs[0].legend(['Train','Val'])\n",
        "\n",
        "axs[1].plot(history.history['dense_4_accuracy'])\n",
        "axs[1].plot(history.history['val_dense_4_accuracy'])\n",
        "axs[1].title.set_text('Training Accuracy vs Validation Accuracy')\n",
        "axs[1].set_xlabel('Epochs')\n",
        "axs[1].set_ylabel('Accuracy')\n",
        "axs[1].legend(['Train', 'Val'])"
      ]
    },
    {
      "cell_type": "code",
      "source": [
        "model.save(\"Path\")"
      ],
      "metadata": {
        "id": "L-QCfe9DShpm"
      },
      "execution_count": null,
      "outputs": []
    }
  ],
  "metadata": {
    "colab": {
      "provenance": [],
      "include_colab_link": true
    },
    "kernelspec": {
      "display_name": "Python 3 (ipykernel)",
      "language": "python",
      "name": "python3"
    },
    "language_info": {
      "codemirror_mode": {
        "name": "ipython",
        "version": 3
      },
      "file_extension": ".py",
      "mimetype": "text/x-python",
      "name": "python",
      "nbconvert_exporter": "python",
      "pygments_lexer": "ipython3",
      "version": "3.9.7"
    }
  },
  "nbformat": 4,
  "nbformat_minor": 0
}